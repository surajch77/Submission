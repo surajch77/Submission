{
 "cells": [
  {
   "cell_type": "code",
   "execution_count": 1,
   "metadata": {},
   "outputs": [],
   "source": [
    "import json"
   ]
  },
  {
   "cell_type": "code",
   "execution_count": 2,
   "metadata": {},
   "outputs": [],
   "source": [
    "with open('packages.json') as f:\n",
    "    data = json.load(f)"
   ]
  },
  {
   "cell_type": "code",
   "execution_count": 3,
   "metadata": {},
   "outputs": [
    {
     "name": "stdout",
     "output_type": "stream",
     "text": [
      "{u'Dependencies': {u'twitter': u'1.17.1', u'pip': u'9.0.1', u'html5lib': u'0.999', u'reportlab': u'3.3.0', u'pexpect': u'4.0.1', u'six': u'1.10.0', u'ptyprocess': u'0.5', u'textblob': u'0.12.0', u'certifi': u'2017.7.27.1', u'numpy': u'1.13.1', u'urllib3': u'1.22', u'scipy': u'0.19.1', u'smart - open': u'1.5.3', u'beautifulsoup4': u'4.4.1', u'bz2file': u'0.98', u'gensim': u'2.3.0', u'pyxdg': u'0.25', u'boto': u'2.48.0', u'chardet': u'3.0.4', u'setuptools': u'20.7.0', u'requests': u'2.18.3', u'idna': u'2.5', u'nltk': u'3.2.4'}}\n"
     ]
    }
   ],
   "source": [
    "print(data)"
   ]
  },
  {
   "cell_type": "code",
   "execution_count": 4,
   "metadata": {},
   "outputs": [
    {
     "name": "stdout",
     "output_type": "stream",
     "text": [
      "Reuired version 1.17.1 for twitter package\n",
      "Reuired version 9.0.1 for pip package\n",
      "Reuired version 0.999 for html5lib package\n",
      "Reuired version 3.3.0 for reportlab package\n",
      "Reuired version 4.0.1 for pexpect package\n",
      "Reuired version 1.10.0 for six package\n",
      "Reuired version 0.5 for ptyprocess package\n",
      "Reuired version 0.12.0 for textblob package\n",
      "Reuired version 2017.7.27.1 for certifi package\n",
      "Reuired version 1.13.1 for numpy package\n",
      "Reuired version 1.22 for urllib3 package\n",
      "Reuired version 0.19.1 for scipy package\n",
      "Reuired version 1.5.3 for smart - open package\n",
      "Reuired version 4.4.1 for beautifulsoup4 package\n",
      "Reuired version 0.98 for bz2file package\n",
      "Reuired version 2.3.0 for gensim package\n",
      "Reuired version 0.25 for pyxdg package\n",
      "Reuired version 2.48.0 for boto package\n",
      "Reuired version 3.0.4 for chardet package\n",
      "Reuired version 20.7.0 for setuptools package\n",
      "Reuired version 2.18.3 for requests package\n",
      "Reuired version 2.5 for idna package\n",
      "Reuired version 3.2.4 for nltk package\n"
     ]
    }
   ],
   "source": [
    "for package in data['Dependencies']:\n",
    "    print (\"Reuired version {} for {} package\".format(data['Dependencies'][package], package))"
   ]
  },
  {
   "cell_type": "code",
   "execution_count": 5,
   "metadata": {},
   "outputs": [
    {
     "name": "stdout",
     "output_type": "stream",
     "text": [
      "{u'twitter': u'1.17.1', u'pip': u'9.0.1', u'html5lib': u'0.999', u'reportlab': u'3.3.0', u'pexpect': u'4.0.1', u'six': u'1.10.0', u'ptyprocess': u'0.5', u'textblob': u'0.12.0', u'certifi': u'2017.7.27.1', u'numpy': u'1.13.1', u'urllib3': u'1.22', u'scipy': u'0.19.1', u'smart - open': u'1.5.3', u'beautifulsoup4': u'4.4.1', u'bz2file': u'0.98', u'gensim': u'2.3.0', u'pyxdg': u'0.25', u'boto': u'2.48.0', u'chardet': u'3.0.4', u'setuptools': u'20.7.0', u'requests': u'2.18.3', u'idna': u'2.5', u'nltk': u'3.2.4'}\n"
     ]
    }
   ],
   "source": [
    "print (data['Dependencies'])"
   ]
  },
  {
   "cell_type": "code",
   "execution_count": 6,
   "metadata": {},
   "outputs": [],
   "source": [
    "from pip._internal import main as pipmain"
   ]
  },
  {
   "cell_type": "code",
   "execution_count": 9,
   "metadata": {},
   "outputs": [],
   "source": [
    "failedPackages = []"
   ]
  },
  {
   "cell_type": "code",
   "execution_count": 10,
   "metadata": {},
   "outputs": [],
   "source": [
    "def installPackage(package, version):\n",
    "    packagename = package + \"==\" + version\n",
    "    print (\"Installation Started : \")\n",
    "    status = pipmain(['install', packagename])\n",
    "    \n",
    "    if(status & 1):\n",
    "        failedPackages.append(package)"
   ]
  },
  {
   "cell_type": "code",
   "execution_count": 11,
   "metadata": {},
   "outputs": [
    {
     "name": "stdout",
     "output_type": "stream",
     "text": [
      "Installing version 1.17.1 for twitter package\n",
      "Installation Started : \n",
      "Requirement already satisfied: twitter==1.17.1 in /home/suraj/anaconda2/lib/python2.7/site-packages (1.17.1)\n"
     ]
    },
    {
     "name": "stderr",
     "output_type": "stream",
     "text": [
      "You are using pip version 9.0.1, however version 18.1 is available.\n",
      "You should consider upgrading via the 'pip install --upgrade pip' command.\n"
     ]
    },
    {
     "name": "stdout",
     "output_type": "stream",
     "text": [
      "Installing version 9.0.1 for pip package\n",
      "Installation Started : \n",
      "Collecting pip==9.0.1\n",
      "  Using cached https://files.pythonhosted.org/packages/b6/ac/7015eb97dc749283ffdec1c3a88ddb8ae03b8fad0f0e611408f196358da3/pip-9.0.1-py2.py3-none-any.whl\n",
      "Installing collected packages: pip\n",
      "  Found existing installation: pip 10.0.1\n",
      "    Uninstalling pip-10.0.1:\n",
      "      Successfully uninstalled pip-10.0.1\n",
      "Successfully installed pip-9.0.1\n"
     ]
    },
    {
     "name": "stderr",
     "output_type": "stream",
     "text": [
      "You are using pip version 9.0.1, however version 18.1 is available.\n",
      "You should consider upgrading via the 'pip install --upgrade pip' command.\n"
     ]
    },
    {
     "name": "stdout",
     "output_type": "stream",
     "text": [
      "Installing version 0.999 for html5lib package\n",
      "Installation Started : \n",
      "Collecting html5lib==0.999\n"
     ]
    },
    {
     "name": "stderr",
     "output_type": "stream",
     "text": [
      "Could not install packages due to an EnvironmentError: Could not find a suitable TLS CA certificate bundle, invalid path: /home/suraj/anaconda2/lib/python2.7/site-packages/pip/_vendor/certifi/cacert.pem\n",
      "\n",
      "You are using pip version 9.0.1, however version 18.1 is available.\n",
      "You should consider upgrading via the 'pip install --upgrade pip' command.\n"
     ]
    },
    {
     "name": "stdout",
     "output_type": "stream",
     "text": [
      "Installing version 3.3.0 for reportlab package\n",
      "Installation Started : \n",
      "Collecting reportlab==3.3.0\n"
     ]
    },
    {
     "name": "stderr",
     "output_type": "stream",
     "text": [
      "Could not install packages due to an EnvironmentError: Could not find a suitable TLS CA certificate bundle, invalid path: /home/suraj/anaconda2/lib/python2.7/site-packages/pip/_vendor/certifi/cacert.pem\n",
      "\n",
      "You are using pip version 9.0.1, however version 18.1 is available.\n",
      "You should consider upgrading via the 'pip install --upgrade pip' command.\n"
     ]
    },
    {
     "name": "stdout",
     "output_type": "stream",
     "text": [
      "Installing version 4.0.1 for pexpect package\n",
      "Installation Started : \n",
      "Collecting pexpect==4.0.1\n"
     ]
    },
    {
     "name": "stderr",
     "output_type": "stream",
     "text": [
      "Could not install packages due to an EnvironmentError: Could not find a suitable TLS CA certificate bundle, invalid path: /home/suraj/anaconda2/lib/python2.7/site-packages/pip/_vendor/certifi/cacert.pem\n",
      "\n",
      "You are using pip version 9.0.1, however version 18.1 is available.\n",
      "You should consider upgrading via the 'pip install --upgrade pip' command.\n"
     ]
    },
    {
     "name": "stdout",
     "output_type": "stream",
     "text": [
      "Installing version 1.10.0 for six package\n",
      "Installation Started : \n",
      "Collecting six==1.10.0\n"
     ]
    },
    {
     "name": "stderr",
     "output_type": "stream",
     "text": [
      "Could not install packages due to an EnvironmentError: Could not find a suitable TLS CA certificate bundle, invalid path: /home/suraj/anaconda2/lib/python2.7/site-packages/pip/_vendor/certifi/cacert.pem\n",
      "\n",
      "You are using pip version 9.0.1, however version 18.1 is available.\n",
      "You should consider upgrading via the 'pip install --upgrade pip' command.\n"
     ]
    },
    {
     "name": "stdout",
     "output_type": "stream",
     "text": [
      "Installing version 0.5 for ptyprocess package\n",
      "Installation Started : \n",
      "Collecting ptyprocess==0.5\n"
     ]
    },
    {
     "name": "stderr",
     "output_type": "stream",
     "text": [
      "Could not install packages due to an EnvironmentError: Could not find a suitable TLS CA certificate bundle, invalid path: /home/suraj/anaconda2/lib/python2.7/site-packages/pip/_vendor/certifi/cacert.pem\n",
      "\n",
      "You are using pip version 9.0.1, however version 18.1 is available.\n",
      "You should consider upgrading via the 'pip install --upgrade pip' command.\n"
     ]
    },
    {
     "name": "stdout",
     "output_type": "stream",
     "text": [
      "Installing version 0.12.0 for textblob package\n",
      "Installation Started : \n",
      "Collecting textblob==0.12.0\n"
     ]
    },
    {
     "name": "stderr",
     "output_type": "stream",
     "text": [
      "Could not install packages due to an EnvironmentError: Could not find a suitable TLS CA certificate bundle, invalid path: /home/suraj/anaconda2/lib/python2.7/site-packages/pip/_vendor/certifi/cacert.pem\n",
      "\n",
      "You are using pip version 9.0.1, however version 18.1 is available.\n",
      "You should consider upgrading via the 'pip install --upgrade pip' command.\n"
     ]
    },
    {
     "name": "stdout",
     "output_type": "stream",
     "text": [
      "Installing version 2017.7.27.1 for certifi package\n",
      "Installation Started : \n",
      "Collecting certifi==2017.7.27.1\n"
     ]
    },
    {
     "name": "stderr",
     "output_type": "stream",
     "text": [
      "Could not install packages due to an EnvironmentError: Could not find a suitable TLS CA certificate bundle, invalid path: /home/suraj/anaconda2/lib/python2.7/site-packages/pip/_vendor/certifi/cacert.pem\n",
      "\n",
      "You are using pip version 9.0.1, however version 18.1 is available.\n",
      "You should consider upgrading via the 'pip install --upgrade pip' command.\n"
     ]
    },
    {
     "name": "stdout",
     "output_type": "stream",
     "text": [
      "Installing version 1.13.1 for numpy package\n",
      "Installation Started : \n",
      "Collecting numpy==1.13.1\n"
     ]
    },
    {
     "name": "stderr",
     "output_type": "stream",
     "text": [
      "Could not install packages due to an EnvironmentError: Could not find a suitable TLS CA certificate bundle, invalid path: /home/suraj/anaconda2/lib/python2.7/site-packages/pip/_vendor/certifi/cacert.pem\n",
      "\n",
      "You are using pip version 9.0.1, however version 18.1 is available.\n",
      "You should consider upgrading via the 'pip install --upgrade pip' command.\n"
     ]
    },
    {
     "name": "stdout",
     "output_type": "stream",
     "text": [
      "Installing version 1.22 for urllib3 package\n",
      "Installation Started : \n",
      "Requirement already satisfied: urllib3==1.22 in /home/suraj/anaconda2/lib/python2.7/site-packages (1.22)\n"
     ]
    },
    {
     "name": "stderr",
     "output_type": "stream",
     "text": [
      "You are using pip version 9.0.1, however version 18.1 is available.\n",
      "You should consider upgrading via the 'pip install --upgrade pip' command.\n"
     ]
    },
    {
     "name": "stdout",
     "output_type": "stream",
     "text": [
      "Installing version 0.19.1 for scipy package\n",
      "Installation Started : \n",
      "Collecting scipy==0.19.1\n"
     ]
    },
    {
     "name": "stderr",
     "output_type": "stream",
     "text": [
      "Could not install packages due to an EnvironmentError: Could not find a suitable TLS CA certificate bundle, invalid path: /home/suraj/anaconda2/lib/python2.7/site-packages/pip/_vendor/certifi/cacert.pem\n",
      "\n",
      "You are using pip version 9.0.1, however version 18.1 is available.\n",
      "You should consider upgrading via the 'pip install --upgrade pip' command.\n",
      "Invalid requirement: 'smart - open==1.5.3'\n",
      "Traceback (most recent call last):\n",
      "  File \"/home/suraj/anaconda2/lib/python2.7/site-packages/pip/_internal/req/req_install.py\", line 252, in from_line\n",
      "  File \"/home/suraj/anaconda2/lib/python2.7/site-packages/pip/_vendor/packaging/requirements.py\", line 97, in __init__\n",
      "InvalidRequirement: Invalid requirement, parse error at \"u'- open=='\"\n",
      "\n"
     ]
    },
    {
     "name": "stdout",
     "output_type": "stream",
     "text": [
      "Installing version 1.5.3 for smart - open package\n",
      "Installation Started : \n"
     ]
    },
    {
     "name": "stderr",
     "output_type": "stream",
     "text": [
      "You are using pip version 9.0.1, however version 18.1 is available.\n",
      "You should consider upgrading via the 'pip install --upgrade pip' command.\n"
     ]
    },
    {
     "name": "stdout",
     "output_type": "stream",
     "text": [
      "Installing version 4.4.1 for beautifulsoup4 package\n",
      "Installation Started : \n",
      "Collecting beautifulsoup4==4.4.1\n"
     ]
    },
    {
     "name": "stderr",
     "output_type": "stream",
     "text": [
      "Could not install packages due to an EnvironmentError: Could not find a suitable TLS CA certificate bundle, invalid path: /home/suraj/anaconda2/lib/python2.7/site-packages/pip/_vendor/certifi/cacert.pem\n",
      "\n",
      "You are using pip version 9.0.1, however version 18.1 is available.\n",
      "You should consider upgrading via the 'pip install --upgrade pip' command.\n"
     ]
    },
    {
     "name": "stdout",
     "output_type": "stream",
     "text": [
      "Installing version 0.98 for bz2file package\n",
      "Installation Started : \n",
      "Collecting bz2file==0.98\n"
     ]
    },
    {
     "name": "stderr",
     "output_type": "stream",
     "text": [
      "Could not install packages due to an EnvironmentError: Could not find a suitable TLS CA certificate bundle, invalid path: /home/suraj/anaconda2/lib/python2.7/site-packages/pip/_vendor/certifi/cacert.pem\n",
      "\n",
      "You are using pip version 9.0.1, however version 18.1 is available.\n",
      "You should consider upgrading via the 'pip install --upgrade pip' command.\n"
     ]
    },
    {
     "name": "stdout",
     "output_type": "stream",
     "text": [
      "Installing version 2.3.0 for gensim package\n",
      "Installation Started : \n",
      "Collecting gensim==2.3.0\n"
     ]
    },
    {
     "name": "stderr",
     "output_type": "stream",
     "text": [
      "Could not install packages due to an EnvironmentError: Could not find a suitable TLS CA certificate bundle, invalid path: /home/suraj/anaconda2/lib/python2.7/site-packages/pip/_vendor/certifi/cacert.pem\n",
      "\n",
      "You are using pip version 9.0.1, however version 18.1 is available.\n",
      "You should consider upgrading via the 'pip install --upgrade pip' command.\n"
     ]
    },
    {
     "name": "stdout",
     "output_type": "stream",
     "text": [
      "Installing version 0.25 for pyxdg package\n",
      "Installation Started : \n",
      "Collecting pyxdg==0.25\n"
     ]
    },
    {
     "name": "stderr",
     "output_type": "stream",
     "text": [
      "Could not install packages due to an EnvironmentError: Could not find a suitable TLS CA certificate bundle, invalid path: /home/suraj/anaconda2/lib/python2.7/site-packages/pip/_vendor/certifi/cacert.pem\n",
      "\n",
      "You are using pip version 9.0.1, however version 18.1 is available.\n",
      "You should consider upgrading via the 'pip install --upgrade pip' command.\n"
     ]
    },
    {
     "name": "stdout",
     "output_type": "stream",
     "text": [
      "Installing version 2.48.0 for boto package\n",
      "Installation Started : \n",
      "Requirement already satisfied: boto==2.48.0 in /home/suraj/anaconda2/lib/python2.7/site-packages (2.48.0)\n"
     ]
    },
    {
     "name": "stderr",
     "output_type": "stream",
     "text": [
      "You are using pip version 9.0.1, however version 18.1 is available.\n",
      "You should consider upgrading via the 'pip install --upgrade pip' command.\n"
     ]
    },
    {
     "name": "stdout",
     "output_type": "stream",
     "text": [
      "Installing version 3.0.4 for chardet package\n",
      "Installation Started : \n",
      "Requirement already satisfied: chardet==3.0.4 in /home/suraj/anaconda2/lib/python2.7/site-packages (3.0.4)\n"
     ]
    },
    {
     "name": "stderr",
     "output_type": "stream",
     "text": [
      "You are using pip version 9.0.1, however version 18.1 is available.\n",
      "You should consider upgrading via the 'pip install --upgrade pip' command.\n"
     ]
    },
    {
     "name": "stdout",
     "output_type": "stream",
     "text": [
      "Installing version 20.7.0 for setuptools package\n",
      "Installation Started : \n",
      "Collecting setuptools==20.7.0\n"
     ]
    },
    {
     "name": "stderr",
     "output_type": "stream",
     "text": [
      "Could not install packages due to an EnvironmentError: Could not find a suitable TLS CA certificate bundle, invalid path: /home/suraj/anaconda2/lib/python2.7/site-packages/pip/_vendor/certifi/cacert.pem\n",
      "\n",
      "You are using pip version 9.0.1, however version 18.1 is available.\n",
      "You should consider upgrading via the 'pip install --upgrade pip' command.\n"
     ]
    },
    {
     "name": "stdout",
     "output_type": "stream",
     "text": [
      "Installing version 2.18.3 for requests package\n",
      "Installation Started : \n",
      "Collecting requests==2.18.3\n"
     ]
    },
    {
     "name": "stderr",
     "output_type": "stream",
     "text": [
      "Could not install packages due to an EnvironmentError: Could not find a suitable TLS CA certificate bundle, invalid path: /home/suraj/anaconda2/lib/python2.7/site-packages/pip/_vendor/certifi/cacert.pem\n",
      "\n",
      "You are using pip version 9.0.1, however version 18.1 is available.\n",
      "You should consider upgrading via the 'pip install --upgrade pip' command.\n"
     ]
    },
    {
     "name": "stdout",
     "output_type": "stream",
     "text": [
      "Installing version 2.5 for idna package\n",
      "Installation Started : \n",
      "Collecting idna==2.5\n"
     ]
    },
    {
     "name": "stderr",
     "output_type": "stream",
     "text": [
      "Could not install packages due to an EnvironmentError: Could not find a suitable TLS CA certificate bundle, invalid path: /home/suraj/anaconda2/lib/python2.7/site-packages/pip/_vendor/certifi/cacert.pem\n",
      "\n",
      "You are using pip version 9.0.1, however version 18.1 is available.\n",
      "You should consider upgrading via the 'pip install --upgrade pip' command.\n"
     ]
    },
    {
     "name": "stdout",
     "output_type": "stream",
     "text": [
      "Installing version 3.2.4 for nltk package\n",
      "Installation Started : \n",
      "Requirement already satisfied: nltk==3.2.4 in /home/suraj/anaconda2/lib/python2.7/site-packages (3.2.4)\n",
      "Requirement already satisfied: six in /home/suraj/.local/lib/python2.7/site-packages (from nltk==3.2.4) (1.11.0)\n"
     ]
    },
    {
     "name": "stderr",
     "output_type": "stream",
     "text": [
      "You are using pip version 9.0.1, however version 18.1 is available.\n",
      "You should consider upgrading via the 'pip install --upgrade pip' command.\n"
     ]
    }
   ],
   "source": [
    "for package in data['Dependencies']:\n",
    "    print (\"Installing version {} for {} package\".format(data['Dependencies'][package], package))\n",
    "    \n",
    "    version = data['Dependencies'][package]\n",
    "    installPackage(package, version)"
   ]
  },
  {
   "cell_type": "code",
   "execution_count": 12,
   "metadata": {},
   "outputs": [
    {
     "name": "stdout",
     "output_type": "stream",
     "text": [
      "17\n"
     ]
    }
   ],
   "source": [
    "print(len(failedPackages))"
   ]
  },
  {
   "cell_type": "code",
   "execution_count": 13,
   "metadata": {},
   "outputs": [
    {
     "name": "stdout",
     "output_type": "stream",
     "text": [
      "23\n"
     ]
    }
   ],
   "source": [
    "print(len(data['Dependencies']))"
   ]
  },
  {
   "cell_type": "code",
   "execution_count": 15,
   "metadata": {},
   "outputs": [
    {
     "name": "stdout",
     "output_type": "stream",
     "text": [
      "Successful installation of 6 packages\n"
     ]
    }
   ],
   "source": [
    "print(\"Successful installation of {} packages\".format(len(data['Dependencies']) - len(failedPackages)))"
   ]
  },
  {
   "cell_type": "code",
   "execution_count": 16,
   "metadata": {},
   "outputs": [
    {
     "name": "stdout",
     "output_type": "stream",
     "text": [
      "failed to install package : html5lib\n",
      "failed to install package : reportlab\n",
      "failed to install package : pexpect\n",
      "failed to install package : six\n",
      "failed to install package : ptyprocess\n",
      "failed to install package : textblob\n",
      "failed to install package : certifi\n",
      "failed to install package : numpy\n",
      "failed to install package : scipy\n",
      "failed to install package : smart - open\n",
      "failed to install package : beautifulsoup4\n",
      "failed to install package : bz2file\n",
      "failed to install package : gensim\n",
      "failed to install package : pyxdg\n",
      "failed to install package : setuptools\n",
      "failed to install package : requests\n",
      "failed to install package : idna\n"
     ]
    }
   ],
   "source": [
    "for i in failedPackages:\n",
    "    print (\"failed to install package : {}\".format(i))"
   ]
  },
  {
   "cell_type": "code",
   "execution_count": null,
   "metadata": {},
   "outputs": [],
   "source": []
  }
 ],
 "metadata": {
  "kernelspec": {
   "display_name": "Python 2",
   "language": "python",
   "name": "python2"
  },
  "language_info": {
   "codemirror_mode": {
    "name": "ipython",
    "version": 2
   },
   "file_extension": ".py",
   "mimetype": "text/x-python",
   "name": "python",
   "nbconvert_exporter": "python",
   "pygments_lexer": "ipython2",
   "version": "2.7.15"
  }
 },
 "nbformat": 4,
 "nbformat_minor": 2
}
